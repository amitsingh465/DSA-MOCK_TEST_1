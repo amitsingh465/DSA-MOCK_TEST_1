{
  "nbformat": 4,
  "nbformat_minor": 0,
  "metadata": {
    "colab": {
      "provenance": []
    },
    "kernelspec": {
      "name": "python3",
      "display_name": "Python 3"
    },
    "language_info": {
      "name": "python"
    }
  },
  "cells": [
    {
      "cell_type": "code",
      "execution_count": null,
      "metadata": {
        "id": "8Qq45EjZomOB"
      },
      "outputs": [],
      "source": [
        "def moveZeroes(nums):\n",
        "    lastNonZero = 0  # Index to keep track of the last non-zero element\n",
        "\n",
        "    # Move non-zero elements towards the beginning of the array\n",
        "    for i in range(len(nums)):\n",
        "        if nums[i] != 0:\n",
        "            nums[lastNonZero] = nums[i]\n",
        "            lastNonZero += 1\n",
        "\n",
        "    # Fill the remaining elements with zeros\n",
        "    while lastNonZero < len(nums):\n",
        "        nums[lastNonZero] = 0\n",
        "        lastNonZero += 1\n",
        "\n",
        "    return nums"
      ]
    },
    {
      "cell_type": "code",
      "source": [
        "nums = [1,5,9,0,6,0,5,0]"
      ],
      "metadata": {
        "id": "3SVOul_NowBT"
      },
      "execution_count": null,
      "outputs": []
    },
    {
      "cell_type": "code",
      "source": [
        "moveZeroes(nums)"
      ],
      "metadata": {
        "colab": {
          "base_uri": "https://localhost:8080/"
        },
        "id": "sSD-jdkKoz6D",
        "outputId": "d1cce1db-f860-4f4c-ac85-7a1394c9bb69"
      },
      "execution_count": null,
      "outputs": [
        {
          "output_type": "execute_result",
          "data": {
            "text/plain": [
              "[1, 5, 9, 6, 5, 0, 0, 0]"
            ]
          },
          "metadata": {},
          "execution_count": 3
        }
      ]
    },
    {
      "cell_type": "code",
      "source": [],
      "metadata": {
        "id": "5ddxBbhno0ms"
      },
      "execution_count": null,
      "outputs": []
    },
    {
      "cell_type": "code",
      "source": [
        "# Q.no-2\n",
        "def firstUniquechar(s):\n",
        "    charCount = {}  \n",
        "\n",
        "    \n",
        "    for char in s:\n",
        "        charCount[char] = charCount.get(char, 0) + 1\n",
        "\n",
        "    \n",
        "    for i in range(len(s)):\n",
        "        if charCount[s[i]] == 1:\n",
        "            return i\n",
        "\n",
        "    return -1  \n"
      ],
      "metadata": {
        "id": "j3Pw4Y-Yo3hV"
      },
      "execution_count": null,
      "outputs": []
    },
    {
      "cell_type": "code",
      "source": [
        "firstUniquechar('mynameisamitkumar')"
      ],
      "metadata": {
        "colab": {
          "base_uri": "https://localhost:8080/"
        },
        "id": "8iD_B_g4pRaF",
        "outputId": "2bb5af2f-8f1e-4dbd-cb71-5921a6675ed7"
      },
      "execution_count": null,
      "outputs": [
        {
          "output_type": "execute_result",
          "data": {
            "text/plain": [
              "1"
            ]
          },
          "metadata": {},
          "execution_count": 6
        }
      ]
    },
    {
      "cell_type": "code",
      "source": [],
      "metadata": {
        "id": "ZcEe2LaipRY8"
      },
      "execution_count": null,
      "outputs": []
    }
  ]
}